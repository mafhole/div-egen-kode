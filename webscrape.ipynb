{
 "cells": [
  {
   "cell_type": "code",
   "execution_count": null,
   "id": "tropical-front",
   "metadata": {},
   "outputs": [],
   "source": [
    "#; brukes for å suppresse output\n",
    "library(tidyverse);\n",
    "library(rvest)\n",
    "library(stringr)"
   ]
  },
  {
   "cell_type": "code",
   "execution_count": null,
   "id": "possible-bachelor",
   "metadata": {},
   "outputs": [],
   "source": []
  },
  {
   "cell_type": "code",
   "execution_count": null,
   "id": "thousand-creativity",
   "metadata": {},
   "outputs": [],
   "source": [
    "#ser på innhold i en pakke\n",
    "#lsf.str(\"package:stringr\")"
   ]
  },
  {
   "cell_type": "code",
   "execution_count": null,
   "id": "apart-premises",
   "metadata": {},
   "outputs": [],
   "source": [
    "#henter html og gjør om til tekst\n",
    "page <- read_html(\"https://www.ssb.no/nasjonalregnskap-og-konjunkturer/artikler-og-publikasjoner/arslonnen-steg-med-3-1-prosent-i-2020\")"
   ]
  },
  {
   "cell_type": "code",
   "execution_count": null,
   "id": "hydraulic-reputation",
   "metadata": {},
   "outputs": [],
   "source": [
    "page <- page %>%\n",
    "    html_node(\"#content > div.artikkel > div.main.section.span-overflow-visible.clearfix > div > div\") %>%\n",
    "    html_text()"
   ]
  }
 ],
 "metadata": {
  "kernelspec": {
   "display_name": "SparkR (k8s cluster)",
   "language": "R",
   "name": "ir_k8s"
  },
  "language_info": {
   "codemirror_mode": "r",
   "file_extension": ".r",
   "mimetype": "text/x-r-source",
   "name": "R",
   "pygments_lexer": "r",
   "version": "4.0.3"
  }
 },
 "nbformat": 4,
 "nbformat_minor": 5
}
