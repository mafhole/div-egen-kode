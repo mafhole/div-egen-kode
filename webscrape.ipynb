{
 "cells": [
  {
   "cell_type": "code",
   "execution_count": 1,
   "id": "listed-rebate",
   "metadata": {},
   "outputs": [
    {
     "name": "stderr",
     "output_type": "stream",
     "text": [
      "Loading required package: xml2\n",
      "\n"
     ]
    }
   ],
   "source": [
    "library(rvest)"
   ]
  },
  {
   "cell_type": "code",
   "execution_count": 2,
   "id": "funky-expression",
   "metadata": {},
   "outputs": [
    {
     "name": "stderr",
     "output_type": "stream",
     "text": [
      "── \u001b[1mAttaching packages\u001b[22m ─────────────────────────────────────── tidyverse 1.3.0 ──\n",
      "\n",
      "\u001b[32m✔\u001b[39m \u001b[34mggplot2\u001b[39m 3.3.3     \u001b[32m✔\u001b[39m \u001b[34mpurrr  \u001b[39m 0.3.4\n",
      "\u001b[32m✔\u001b[39m \u001b[34mtibble \u001b[39m 3.0.6     \u001b[32m✔\u001b[39m \u001b[34mdplyr  \u001b[39m 1.0.4\n",
      "\u001b[32m✔\u001b[39m \u001b[34mtidyr  \u001b[39m 1.1.2     \u001b[32m✔\u001b[39m \u001b[34mstringr\u001b[39m 1.4.0\n",
      "\u001b[32m✔\u001b[39m \u001b[34mreadr  \u001b[39m 1.4.0     \u001b[32m✔\u001b[39m \u001b[34mforcats\u001b[39m 0.5.1\n",
      "\n",
      "── \u001b[1mConflicts\u001b[22m ────────────────────────────────────────── tidyverse_conflicts() ──\n",
      "\u001b[31m✖\u001b[39m \u001b[34mdplyr\u001b[39m::\u001b[32marrange()\u001b[39m        masks \u001b[34mSparkR\u001b[39m::arrange()\n",
      "\u001b[31m✖\u001b[39m \u001b[34mdplyr\u001b[39m::\u001b[32mbetween()\u001b[39m        masks \u001b[34mSparkR\u001b[39m::between()\n",
      "\u001b[31m✖\u001b[39m \u001b[34mdplyr\u001b[39m::\u001b[32mcoalesce()\u001b[39m       masks \u001b[34mSparkR\u001b[39m::coalesce()\n",
      "\u001b[31m✖\u001b[39m \u001b[34mdplyr\u001b[39m::\u001b[32mcollect()\u001b[39m        masks \u001b[34mSparkR\u001b[39m::collect()\n",
      "\u001b[31m✖\u001b[39m \u001b[34mdplyr\u001b[39m::\u001b[32mcontains()\u001b[39m       masks \u001b[34mtidyr\u001b[39m::contains(), \u001b[34mSparkR\u001b[39m::contains()\n",
      "\u001b[31m✖\u001b[39m \u001b[34mdplyr\u001b[39m::\u001b[32mcount()\u001b[39m          masks \u001b[34mSparkR\u001b[39m::count()\n",
      "\u001b[31m✖\u001b[39m \u001b[34mdplyr\u001b[39m::\u001b[32mcume_dist()\u001b[39m      masks \u001b[34mSparkR\u001b[39m::cume_dist()\n",
      "\u001b[31m✖\u001b[39m \u001b[34mdplyr\u001b[39m::\u001b[32mdense_rank()\u001b[39m     masks \u001b[34mSparkR\u001b[39m::dense_rank()\n",
      "\u001b[31m✖\u001b[39m \u001b[34mdplyr\u001b[39m::\u001b[32mdesc()\u001b[39m           masks \u001b[34mSparkR\u001b[39m::desc()\n",
      "\u001b[31m✖\u001b[39m \u001b[34mdplyr\u001b[39m::\u001b[32mdistinct()\u001b[39m       masks \u001b[34mSparkR\u001b[39m::distinct()\n",
      "\u001b[31m✖\u001b[39m \u001b[34mdplyr\u001b[39m::\u001b[32mexplain()\u001b[39m        masks \u001b[34mSparkR\u001b[39m::explain()\n",
      "\u001b[31m✖\u001b[39m \u001b[34mdplyr\u001b[39m::\u001b[32mexpr()\u001b[39m           masks \u001b[34mggplot2\u001b[39m::expr(), \u001b[34mSparkR\u001b[39m::expr()\n",
      "\u001b[31m✖\u001b[39m \u001b[34mdplyr\u001b[39m::\u001b[32mfilter()\u001b[39m         masks \u001b[34mSparkR\u001b[39m::filter(), \u001b[34mstats\u001b[39m::filter()\n",
      "\u001b[31m✖\u001b[39m \u001b[34mdplyr\u001b[39m::\u001b[32mfirst()\u001b[39m          masks \u001b[34mSparkR\u001b[39m::first()\n",
      "\u001b[31m✖\u001b[39m \u001b[34mpurrr\u001b[39m::\u001b[32mflatten()\u001b[39m        masks \u001b[34mSparkR\u001b[39m::flatten()\n",
      "\u001b[31m✖\u001b[39m \u001b[34mdplyr\u001b[39m::\u001b[32mgroup_by()\u001b[39m       masks \u001b[34mSparkR\u001b[39m::group_by()\n",
      "\u001b[31m✖\u001b[39m \u001b[34mreadr\u001b[39m::\u001b[32mguess_encoding()\u001b[39m masks \u001b[34mrvest\u001b[39m::guess_encoding()\n",
      "\u001b[31m✖\u001b[39m \u001b[34mdplyr\u001b[39m::\u001b[32mlag()\u001b[39m            masks \u001b[34mSparkR\u001b[39m::lag(), \u001b[34mstats\u001b[39m::lag()\n",
      "\u001b[31m✖\u001b[39m \u001b[34mdplyr\u001b[39m::\u001b[32mlast()\u001b[39m           masks \u001b[34mSparkR\u001b[39m::last()\n",
      "\u001b[31m✖\u001b[39m \u001b[34mdplyr\u001b[39m::\u001b[32mlead()\u001b[39m           masks \u001b[34mSparkR\u001b[39m::lead()\n",
      "\u001b[31m✖\u001b[39m \u001b[34mdplyr\u001b[39m::\u001b[32mmutate()\u001b[39m         masks \u001b[34mSparkR\u001b[39m::mutate()\n",
      "\u001b[31m✖\u001b[39m \u001b[34mdplyr\u001b[39m::\u001b[32mn()\u001b[39m              masks \u001b[34mSparkR\u001b[39m::n()\n",
      "\u001b[31m✖\u001b[39m \u001b[34mdplyr\u001b[39m::\u001b[32mn_distinct()\u001b[39m     masks \u001b[34mSparkR\u001b[39m::n_distinct()\n",
      "\u001b[31m✖\u001b[39m \u001b[34mpurrr\u001b[39m::\u001b[32mnegate()\u001b[39m         masks \u001b[34mSparkR\u001b[39m::negate()\n",
      "\u001b[31m✖\u001b[39m \u001b[34mdplyr\u001b[39m::\u001b[32mntile()\u001b[39m          masks \u001b[34mSparkR\u001b[39m::ntile()\n",
      "\u001b[31m✖\u001b[39m \u001b[34mdplyr\u001b[39m::\u001b[32mpercent_rank()\u001b[39m   masks \u001b[34mSparkR\u001b[39m::percent_rank()\n",
      "\u001b[31m✖\u001b[39m \u001b[34mpurrr\u001b[39m::\u001b[32mpluck()\u001b[39m          masks \u001b[34mrvest\u001b[39m::pluck()\n",
      "\u001b[31m✖\u001b[39m \u001b[34mdplyr\u001b[39m::\u001b[32mrename()\u001b[39m         masks \u001b[34mSparkR\u001b[39m::rename()\n",
      "\u001b[31m✖\u001b[39m \u001b[34mdplyr\u001b[39m::\u001b[32mrow_number()\u001b[39m     masks \u001b[34mSparkR\u001b[39m::row_number()\n",
      "\u001b[31m✖\u001b[39m \u001b[34mdplyr\u001b[39m::\u001b[32msample_frac()\u001b[39m    masks \u001b[34mSparkR\u001b[39m::sample_frac()\n",
      "\u001b[31m✖\u001b[39m \u001b[34mdplyr\u001b[39m::\u001b[32mselect()\u001b[39m         masks \u001b[34mSparkR\u001b[39m::select()\n",
      "\u001b[31m✖\u001b[39m \u001b[34mdplyr\u001b[39m::\u001b[32mslice()\u001b[39m          masks \u001b[34mSparkR\u001b[39m::slice()\n",
      "\u001b[31m✖\u001b[39m \u001b[34mdplyr\u001b[39m::\u001b[32msql()\u001b[39m            masks \u001b[34mSparkR\u001b[39m::sql()\n",
      "\u001b[31m✖\u001b[39m \u001b[34mdplyr\u001b[39m::\u001b[32msummarize()\u001b[39m      masks \u001b[34mSparkR\u001b[39m::summarize()\n",
      "\u001b[31m✖\u001b[39m \u001b[34mpurrr\u001b[39m::\u001b[32mwhen()\u001b[39m           masks \u001b[34mSparkR\u001b[39m::when()\n",
      "\n"
     ]
    }
   ],
   "source": [
    "library(tidyverse)"
   ]
  },
  {
   "cell_type": "code",
   "execution_count": 4,
   "id": "attended-produce",
   "metadata": {},
   "outputs": [
    {
     "data": {
      "text/plain": [
       "%>% : function (lhs, rhs)  \n",
       "back : function (x)  \n",
       "follow_link : function (x, i, css, xpath, ...)  \n",
       "google_form : function (x)  \n",
       "guess_encoding : function (x)  \n",
       "html : function (x, ..., encoding = \"\")  \n",
       "html_attr : function (x, name, default = NA_character_)  \n",
       "html_attrs : function (x)  \n",
       "html_children : function (x)  \n",
       "html_form : function (x)  \n",
       "html_name : function (x)  \n",
       "html_node : function (x, css, xpath)  \n",
       "html_nodes : function (x, css, xpath)  \n",
       "html_session : function (url, ...)  \n",
       "html_table : function (x, header = NA, trim = TRUE, fill = FALSE, dec = \".\")  \n",
       "html_tag : function (x)  \n",
       "html_text : function (x, trim = FALSE)  \n",
       "is.session : function (x)  \n",
       "jump_to : function (x, url, ...)  \n",
       "minimal_html : function (title, html = \"\")  \n",
       "pluck : function (x, i, type)  \n",
       "repair_encoding : function (x, from = NULL)  \n",
       "session_history : function (x)  \n",
       "set_values : function (form, ...)  \n",
       "submit_form : function (session, form, submit = NULL, ...)  \n",
       "xml : function (x, ..., encoding = \"\")  \n",
       "xml_node : function (x, css, xpath)  \n",
       "xml_nodes : function (x, css, xpath)  \n",
       "xml_tag : function (x)  "
      ]
     },
     "metadata": {},
     "output_type": "display_data"
    }
   ],
   "source": [
    "lsf.str(\"package:rvest\")"
   ]
  },
  {
   "cell_type": "code",
   "execution_count": null,
   "id": "plain-script",
   "metadata": {},
   "outputs": [],
   "source": []
  }
 ],
 "metadata": {
  "kernelspec": {
   "display_name": "SparkR (local)",
   "language": "R",
   "name": "ir"
  },
  "language_info": {
   "codemirror_mode": "r",
   "file_extension": ".r",
   "mimetype": "text/x-r-source",
   "name": "R",
   "pygments_lexer": "r",
   "version": "4.0.3"
  }
 },
 "nbformat": 4,
 "nbformat_minor": 5
}
