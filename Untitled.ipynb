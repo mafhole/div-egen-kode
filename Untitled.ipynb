{
 "cells": [
  {
   "cell_type": "code",
   "execution_count": 3,
   "id": "raised-conjunction",
   "metadata": {},
   "outputs": [
    {
     "name": "stderr",
     "output_type": "stream",
     "text": [
      "Installing package into ‘/usr/local/spark-3.0.1-bin-hadoop3.2/R/lib’\n",
      "(as ‘lib’ is unspecified)\n",
      "\n",
      "Warning message:\n",
      "“unable to access index for repository https://cran.r-project.org/src/contrib:\n",
      "  cannot open URL 'https://cran.r-project.org/src/contrib/PACKAGES'”\n",
      "Warning message:\n",
      "“package ‘easySdcTable’ is not available for this version of R\n",
      "\n",
      "A version of this package for your version of R might be available elsewhere,\n",
      "see the ideas at\n",
      "https://cran.r-project.org/doc/manuals/r-patched/R-admin.html#Installing-packages”\n"
     ]
    }
   ],
   "source": [
    "install.packages('easySdcTable')"
   ]
  },
  {
   "cell_type": "code",
   "execution_count": null,
   "id": "ethical-photograph",
   "metadata": {},
   "outputs": [],
   "source": [
    "library(easySdcTable)"
   ]
  }
 ],
 "metadata": {
  "kernelspec": {
   "display_name": "SparkR (k8s cluster)",
   "language": "R",
   "name": "ir_k8s"
  },
  "language_info": {
   "codemirror_mode": "r",
   "file_extension": ".r",
   "mimetype": "text/x-r-source",
   "name": "R",
   "pygments_lexer": "r",
   "version": "4.0.3"
  }
 },
 "nbformat": 4,
 "nbformat_minor": 5
}
